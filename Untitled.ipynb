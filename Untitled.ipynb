{
 "cells": [
  {
   "cell_type": "code",
   "execution_count": 1,
   "id": "direct-colonial",
   "metadata": {
    "ExecuteTime": {
     "end_time": "2022-01-03T13:42:38.946081Z",
     "start_time": "2022-01-03T13:42:36.760307Z"
    }
   },
   "outputs": [],
   "source": [
    "import pandas as pd"
   ]
  },
  {
   "cell_type": "code",
   "execution_count": 2,
   "id": "varied-valley",
   "metadata": {
    "ExecuteTime": {
     "end_time": "2022-01-03T13:43:17.765123Z",
     "start_time": "2022-01-03T13:43:15.937842Z"
    }
   },
   "outputs": [],
   "source": [
    "# Fetch data into daataframe\n",
    "data_frame = pd.read_excel(r'data_final.xlsx')\n",
    "data_frame.drop('Unnamed: 0', axis =1, inplace=True)"
   ]
  },
  {
   "cell_type": "code",
   "execution_count": 3,
   "id": "complete-fancy",
   "metadata": {
    "ExecuteTime": {
     "end_time": "2022-01-03T13:43:20.633024Z",
     "start_time": "2022-01-03T13:43:20.562128Z"
    }
   },
   "outputs": [
    {
     "data": {
      "text/html": [
       "<div>\n",
       "<style scoped>\n",
       "    .dataframe tbody tr th:only-of-type {\n",
       "        vertical-align: middle;\n",
       "    }\n",
       "\n",
       "    .dataframe tbody tr th {\n",
       "        vertical-align: top;\n",
       "    }\n",
       "\n",
       "    .dataframe thead th {\n",
       "        text-align: right;\n",
       "    }\n",
       "</style>\n",
       "<table border=\"1\" class=\"dataframe\">\n",
       "  <thead>\n",
       "    <tr style=\"text-align: right;\">\n",
       "      <th></th>\n",
       "      <th>input_text</th>\n",
       "      <th>target_text</th>\n",
       "    </tr>\n",
       "  </thead>\n",
       "  <tbody>\n",
       "    <tr>\n",
       "      <th>0</th>\n",
       "      <td>5.30pm Bangladesh have won the toss and will b...</td>\n",
       "      <td>Bangladesh 122 for 8 (Naim 23, Ellis 2-16, Chr...</td>\n",
       "    </tr>\n",
       "    <tr>\n",
       "      <th>1</th>\n",
       "      <td>Toss Bangladesh win toss, will bat first - the...</td>\n",
       "      <td>Australia 105 for 7 (Christian 39) beat Bangla...</td>\n",
       "    </tr>\n",
       "    <tr>\n",
       "      <th>2</th>\n",
       "      <td>The ball too. Hazlewood to Mahmudullah, 1 run ...</td>\n",
       "      <td>Bangladesh 127 for 9 (Mahmudullah 52, Ellis 3-...</td>\n",
       "    </tr>\n",
       "    <tr>\n",
       "      <th>3</th>\n",
       "      <td>5.30pm Australia win the toss and bat first to...</td>\n",
       "      <td>Bangladesh 123 for 5 (Afif 37*) beat Australia...</td>\n",
       "    </tr>\n",
       "    <tr>\n",
       "      <th>4</th>\n",
       "      <td>Hazlewood to Soumya, no run sways out of the w...</td>\n",
       "      <td>Bangladesh 131 for 7 (Shakib 36, Naim 30, Hazl...</td>\n",
       "    </tr>\n",
       "    <tr>\n",
       "      <th>...</th>\n",
       "      <td>...</td>\n",
       "      <td>...</td>\n",
       "    </tr>\n",
       "    <tr>\n",
       "      <th>458</th>\n",
       "      <td>Clarke to Mahela Jayawardene, no run pushed of...</td>\n",
       "      <td>Australia 232 for 3 (Ponting 66*, Symonds 63*)...</td>\n",
       "    </tr>\n",
       "    <tr>\n",
       "      <th>459</th>\n",
       "      <td>Tait to K O'Brien, (no ball) oh dear. Tait to ...</td>\n",
       "      <td>Australia 92 for 1 (Gilchrist 34, Hussey 30*) ...</td>\n",
       "    </tr>\n",
       "    <tr>\n",
       "      <th>460</th>\n",
       "      <td>I like to call that a Test cut. England win th...</td>\n",
       "      <td>Australia 248 for 3 (Ponting 86, Clarke 55*) b...</td>\n",
       "    </tr>\n",
       "    <tr>\n",
       "      <th>461</th>\n",
       "      <td>Good ball all the same. Watson to Vaas, (no ba...</td>\n",
       "      <td>Australia 102 for 0 (Hayden 58*, Gilchrist 31*...</td>\n",
       "    </tr>\n",
       "    <tr>\n",
       "      <th>462</th>\n",
       "      <td>Brett Lee became the first bowler to take a Tw...</td>\n",
       "      <td>Australia 124 for 1 (Hayden 73*, Gilchrist 43)...</td>\n",
       "    </tr>\n",
       "  </tbody>\n",
       "</table>\n",
       "<p>463 rows × 2 columns</p>\n",
       "</div>"
      ],
      "text/plain": [
       "                                            input_text  \\\n",
       "0    5.30pm Bangladesh have won the toss and will b...   \n",
       "1    Toss Bangladesh win toss, will bat first - the...   \n",
       "2    The ball too. Hazlewood to Mahmudullah, 1 run ...   \n",
       "3    5.30pm Australia win the toss and bat first to...   \n",
       "4    Hazlewood to Soumya, no run sways out of the w...   \n",
       "..                                                 ...   \n",
       "458  Clarke to Mahela Jayawardene, no run pushed of...   \n",
       "459  Tait to K O'Brien, (no ball) oh dear. Tait to ...   \n",
       "460  I like to call that a Test cut. England win th...   \n",
       "461  Good ball all the same. Watson to Vaas, (no ba...   \n",
       "462  Brett Lee became the first bowler to take a Tw...   \n",
       "\n",
       "                                           target_text  \n",
       "0    Bangladesh 122 for 8 (Naim 23, Ellis 2-16, Chr...  \n",
       "1    Australia 105 for 7 (Christian 39) beat Bangla...  \n",
       "2    Bangladesh 127 for 9 (Mahmudullah 52, Ellis 3-...  \n",
       "3    Bangladesh 123 for 5 (Afif 37*) beat Australia...  \n",
       "4    Bangladesh 131 for 7 (Shakib 36, Naim 30, Hazl...  \n",
       "..                                                 ...  \n",
       "458  Australia 232 for 3 (Ponting 66*, Symonds 63*)...  \n",
       "459  Australia 92 for 1 (Gilchrist 34, Hussey 30*) ...  \n",
       "460  Australia 248 for 3 (Ponting 86, Clarke 55*) b...  \n",
       "461  Australia 102 for 0 (Hayden 58*, Gilchrist 31*...  \n",
       "462  Australia 124 for 1 (Hayden 73*, Gilchrist 43)...  \n",
       "\n",
       "[463 rows x 2 columns]"
      ]
     },
     "execution_count": 3,
     "metadata": {},
     "output_type": "execute_result"
    }
   ],
   "source": [
    "data_frame"
   ]
  },
  {
   "cell_type": "code",
   "execution_count": null,
   "id": "disabled-advertiser",
   "metadata": {},
   "outputs": [],
   "source": []
  }
 ],
 "metadata": {
  "kernelspec": {
   "display_name": "Python 3",
   "language": "python",
   "name": "python3"
  },
  "language_info": {
   "codemirror_mode": {
    "name": "ipython",
    "version": 3
   },
   "file_extension": ".py",
   "mimetype": "text/x-python",
   "name": "python",
   "nbconvert_exporter": "python",
   "pygments_lexer": "ipython3",
   "version": "3.8.5"
  },
  "toc": {
   "base_numbering": 1,
   "nav_menu": {},
   "number_sections": true,
   "sideBar": true,
   "skip_h1_title": false,
   "title_cell": "Table of Contents",
   "title_sidebar": "Contents",
   "toc_cell": false,
   "toc_position": {},
   "toc_section_display": true,
   "toc_window_display": false
  }
 },
 "nbformat": 4,
 "nbformat_minor": 5
}
