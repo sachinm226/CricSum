{
 "cells": [
  {
   "cell_type": "code",
   "execution_count": 1,
   "id": "895146e2",
   "metadata": {
    "ExecuteTime": {
     "end_time": "2021-12-14T19:06:06.233640Z",
     "start_time": "2021-12-14T19:06:05.760458Z"
    }
   },
   "outputs": [],
   "source": [
    "import pandas as pd\n",
    "import numpy as np\n",
    "import nltk\n",
    "import re\n",
    "nltk.download('stopwords')\n",
    "nltk.download('punkt')\n",
    "import os.path\n",
    "from nltk.tag import StanfordNERTagger\n",
    "from nltk.tokenize import word_tokenize"
   ]
  },
  {
   "cell_type": "code",
   "execution_count": 7,
   "id": "2b132ceb",
   "metadata": {
    "ExecuteTime": {
     "end_time": "2021-12-14T19:10:29.177821Z",
     "start_time": "2021-12-14T19:10:29.169842Z"
    }
   },
   "outputs": [
    {
     "ename": "SyntaxError",
     "evalue": "invalid syntax (<ipython-input-7-9a61594d74de>, line 7)",
     "output_type": "error",
     "traceback": [
      "\u001b[1;36m  File \u001b[1;32m\"<ipython-input-7-9a61594d74de>\"\u001b[1;36m, line \u001b[1;32m7\u001b[0m\n\u001b[1;33m    if (os.path.isfile(os.path.join(os.getcwd(), 'Commentaries', 'commentary_{0}.txt'.format(i)).replace('\\\\', '/')) and (os.path.isfile(os.path.join(os.getcwd(), 'Reports', 'short_reports','report_{0}.txt'.format(i)).replace('\\\\', '/'))):\u001b[0m\n\u001b[1;37m                                                                                                                                                                                                                                              ^\u001b[0m\n\u001b[1;31mSyntaxError\u001b[0m\u001b[1;31m:\u001b[0m invalid syntax\n"
     ]
    }
   ],
   "source": [
    "lst_commentaries = []\n",
    "lst_reports = []\n",
    "for i in range(1,700):\n",
    "    sent = ''\n",
    "    if (os.path.isfile(r'C:\\Users\\sachi\\Downloads\\NCI\\Thesisi\\Project\\CSV\\commentary_{0}.csv'.format(i))) and (os.path.isfile(r'C:\\Users\\sachi\\Downloads\\NCI\\Thesisi\\Project\\Reports\\short_reports\\report_{0}.txt'.format(i))):\n",
    "        df = pd.read_csv(r'C:\\Users\\sachi\\Downloads\\NCI\\Thesisi\\Project\\CSV\\commentary_{0}.csv'.format(i))\n",
    "        with open(r'C:\\Users\\sachi\\Downloads\\NCI\\Thesisi\\Project\\Reports\\short_reports\\report_{0}.txt'.format(i), 'r') as f:\n",
    "            lst_reports.append(f.readlines()[0])\n",
    "        df.drop(columns=['Unnamed: 0'], axis = 1, inplace=True)\n",
    "        for j in range(df.shape[0]):\n",
    "            sent = sent + df.iloc[j,0]+'.'\n",
    "        lst_commentaries.append(sent)"
   ]
  },
  {
   "cell_type": "code",
   "execution_count": 4,
   "id": "632d6441",
   "metadata": {
    "ExecuteTime": {
     "end_time": "2021-12-14T19:06:09.554420Z",
     "start_time": "2021-12-14T19:06:09.446629Z"
    }
   },
   "outputs": [
    {
     "ename": "NameError",
     "evalue": "name 'lst_commentaries' is not defined",
     "output_type": "error",
     "traceback": [
      "\u001b[1;31m---------------------------------------------------------------------------\u001b[0m",
      "\u001b[1;31mNameError\u001b[0m                                 Traceback (most recent call last)",
      "\u001b[1;32m<ipython-input-4-f6e012d95b27>\u001b[0m in \u001b[0;36m<module>\u001b[1;34m\u001b[0m\n\u001b[1;32m----> 1\u001b[1;33m \u001b[0mdata_frame\u001b[0m \u001b[1;33m=\u001b[0m \u001b[0mpd\u001b[0m\u001b[1;33m.\u001b[0m\u001b[0mDataFrame\u001b[0m\u001b[1;33m(\u001b[0m\u001b[1;33m{\u001b[0m\u001b[1;34m'input_text'\u001b[0m\u001b[1;33m:\u001b[0m\u001b[0mlst_commentaries\u001b[0m\u001b[1;33m,\u001b[0m \u001b[1;34m'target_text'\u001b[0m\u001b[1;33m:\u001b[0m\u001b[0mlst_reports\u001b[0m\u001b[1;33m}\u001b[0m\u001b[1;33m)\u001b[0m\u001b[1;33m\u001b[0m\u001b[1;33m\u001b[0m\u001b[0m\n\u001b[0m",
      "\u001b[1;31mNameError\u001b[0m: name 'lst_commentaries' is not defined"
     ]
    }
   ],
   "source": [
    "data_frame = pd.DataFrame({'input_text':lst_commentaries, 'target_text':lst_reports})"
   ]
  },
  {
   "cell_type": "code",
   "execution_count": 5,
   "id": "44a5f542",
   "metadata": {
    "ExecuteTime": {
     "end_time": "2021-12-13T16:42:52.740995Z",
     "start_time": "2021-12-13T16:42:52.720052Z"
    }
   },
   "outputs": [
    {
     "data": {
      "text/plain": [
       "(465, 2)"
      ]
     },
     "execution_count": 5,
     "metadata": {},
     "output_type": "execute_result"
    }
   ],
   "source": [
    "data_frame.shape"
   ]
  },
  {
   "cell_type": "code",
   "execution_count": 6,
   "id": "dc0b19c2",
   "metadata": {
    "ExecuteTime": {
     "end_time": "2021-12-13T16:42:59.005424Z",
     "start_time": "2021-12-13T16:42:52.749982Z"
    }
   },
   "outputs": [],
   "source": [
    "# Dataset without masking the data\n",
    "data_frame.to_excel('data_2_withoutMask.xlsx')"
   ]
  },
  {
   "cell_type": "markdown",
   "id": "4ec31468",
   "metadata": {},
   "source": [
    "### Cosine Similarity"
   ]
  },
  {
   "cell_type": "code",
   "execution_count": 8,
   "id": "0b7c4591",
   "metadata": {
    "ExecuteTime": {
     "end_time": "2021-12-13T16:43:31.777410Z",
     "start_time": "2021-12-13T16:43:31.755186Z"
    }
   },
   "outputs": [],
   "source": [
    "st = StanfordNERTagger(r'C:\\Users\\sachi\\Downloads\\stanford-ner-4.2.0\\stanford-ner-4.2.0\\stanford-ner-2020-11-17\\classifiers\\english.all.3class.distsim.crf.ser.gz',\n",
    "  r'C:\\Users\\sachi\\Downloads\\stanford-ner-4.2.0\\stanford-ner-4.2.0\\stanford-ner-2020-11-17\\stanford-ner.jar',\n",
    "  encoding='utf-8')"
   ]
  },
  {
   "cell_type": "code",
   "execution_count": 9,
   "id": "d352a666",
   "metadata": {
    "ExecuteTime": {
     "end_time": "2021-12-13T17:04:05.062123Z",
     "start_time": "2021-12-13T16:43:31.945074Z"
    },
    "scrolled": false
   },
   "outputs": [],
   "source": [
    "dict = {}\n",
    "for i in range(data_frame.shape[0]):\n",
    "    text = data_frame.iloc[i,0]\n",
    "    tokenized_text = word_tokenize(text)\n",
    "    classified_text = st.tag(tokenized_text)\n",
    "\n",
    "    list_of_person = [i for i in classified_text if i[1] == 'PERSON']\n",
    "    dict[i] = list_of_person"
   ]
  },
  {
   "cell_type": "code",
   "execution_count": 10,
   "id": "9e597e18",
   "metadata": {
    "ExecuteTime": {
     "end_time": "2021-12-13T17:04:05.186975Z",
     "start_time": "2021-12-13T17:04:05.064123Z"
    }
   },
   "outputs": [],
   "source": [
    "plyr_dict = {}\n",
    "for z in range(len(dict)):  \n",
    "    lst_plyr = []\n",
    "\n",
    "    for i in dict[z]:\n",
    "        if i[0] not in lst_plyr:\n",
    "            lst_plyr.append(i[0])\n",
    "\n",
    "    lst_lyr_to_delete = [ 'Fended.Mahedi', 'Ranjith', 'McGlashan', 'Sreshth', 'Shah', 'Dan', '.Mahedi','P.', 'Marsh.Mahedi', 'Hossain','Mahedi.Mahedi',\n",
    " 'defend.Mahedi',\n",
    " 'cover.Mahedi', 'Binoy', 'Kishore','Shashank', 'George', 'Man', 'of', 'Ben','the','Leslie', 'Reifer','Nigel',\n",
    " 'Duguid', 'Jr','Hope', 'Match','Jr.', 'Penna', 'Della', 'Peter', 'Good','different.Tom','intercepts.Sam',\n",
    " 'mid-on.Sam',  'Allen.Australia','(',\"doesn'.Kane\", 'RussSir', 'defended.Tom','Mo','defending.Tom',\n",
    " 'midwicket.Tom','to', 'der', 'dre','van','Cricinfo',\n",
    " 'mid-off.Tom',\n",
    " 'defends.Tom',\n",
    " 'Ultra-Edge',\n",
    " 'mid-off.Sam', 'Wade.Starc','Chandan',' Duorah', 'Hemant ','Brar','there.Bumrah','Richardson.Kane',\n",
    " 'Stoinis.Kane','.Kane','Kohli.Agar','misses.Kane',')','cover.Kane','delivers.Kane','Carey.Kane','blade.Muhammad', 'boundary.Kane',\n",
    " 'defended.Kane',\n",
    " 'him.Mohammad','.Muhammad',\n",
    " '.Mohammad',\n",
    " 'Warner.Mohammad',\n",
    " 'though.Mohammad',\n",
    " 'it.Mohammad',\n",
    " 'midwicket.Mohammad',\n",
    " 'mid-off.Mohammad',\n",
    " 'away.Mohammad',]\n",
    "    for j in lst_lyr_to_delete:\n",
    "        if j in lst_plyr:\n",
    "            lst_plyr.remove(j)    \n",
    "    plyr_dict[z] = lst_plyr"
   ]
  },
  {
   "cell_type": "code",
   "execution_count": 11,
   "id": "3f80cc0d",
   "metadata": {
    "ExecuteTime": {
     "end_time": "2021-12-13T17:04:05.202981Z",
     "start_time": "2021-12-13T17:04:05.188968Z"
    }
   },
   "outputs": [],
   "source": [
    "plyr_dict_1 = {}\n",
    "for a in range(len(plyr_dict)):\n",
    "    l = []\n",
    "    for k in plyr_dict[a]:\n",
    "        if '.' not in k:\n",
    "            l.append(k)\n",
    "    plyr_dict_1[a] = l"
   ]
  },
  {
   "cell_type": "code",
   "execution_count": 12,
   "id": "86fe6563",
   "metadata": {
    "ExecuteTime": {
     "end_time": "2021-12-13T17:04:05.218408Z",
     "start_time": "2021-12-13T17:04:05.203907Z"
    }
   },
   "outputs": [],
   "source": [
    "plyr_dict = None\n",
    "plyr_dict = plyr_dict_1"
   ]
  },
  {
   "cell_type": "code",
   "execution_count": 13,
   "id": "d522a43d",
   "metadata": {
    "ExecuteTime": {
     "end_time": "2021-12-13T17:04:05.234168Z",
     "start_time": "2021-12-13T17:04:05.219937Z"
    }
   },
   "outputs": [],
   "source": [
    "for i in plyr_dict:\n",
    "    for j in plyr_dict[i]:\n",
    "        if len(j) <4:\n",
    "            plyr_dict[i].remove(j)"
   ]
  },
  {
   "cell_type": "code",
   "execution_count": 16,
   "id": "e9a74bcc",
   "metadata": {
    "ExecuteTime": {
     "end_time": "2021-12-13T17:04:06.197808Z",
     "start_time": "2021-12-13T17:04:05.283010Z"
    }
   },
   "outputs": [],
   "source": [
    "# Replacing the player names by Player#\n",
    "input_text = []\n",
    "target_text = []\n",
    "for m in range(data_frame.shape[0]):\n",
    "    text = data_frame.iloc[m,0]\n",
    "    summary = data_frame.iloc[m,1]\n",
    "    for n in range(len(plyr_dict[m])):\n",
    "             text = text.replace(plyr_dict[m][n],'Player#')\n",
    "             summary = summary.replace(plyr_dict[m][n],'Player#')\n",
    "    input_text.append(text)\n",
    "    target_text.append(summary)"
   ]
  },
  {
   "cell_type": "code",
   "execution_count": 17,
   "id": "ece16ccc",
   "metadata": {
    "ExecuteTime": {
     "end_time": "2021-12-13T17:04:06.213437Z",
     "start_time": "2021-12-13T17:04:06.199436Z"
    }
   },
   "outputs": [],
   "source": [
    "data_frame = pd.DataFrame({'input_text':input_text, 'target_text':target_text})"
   ]
  },
  {
   "cell_type": "code",
   "execution_count": 19,
   "id": "2e5b4d7d",
   "metadata": {
    "ExecuteTime": {
     "end_time": "2021-12-13T17:04:07.350244Z",
     "start_time": "2021-12-13T17:04:06.230529Z"
    }
   },
   "outputs": [],
   "source": [
    "data_frame.to_excel('data_2.xlsx')"
   ]
  },
  {
   "cell_type": "code",
   "execution_count": 30,
   "id": "007e45f4",
   "metadata": {
    "ExecuteTime": {
     "end_time": "2021-12-10T08:45:24.202091Z",
     "start_time": "2021-12-10T08:45:24.182109Z"
    }
   },
   "outputs": [],
   "source": [
    "def replace_digits(tex):\n",
    "    \"\"\"This function replaces the digits by digit#\"\"\"\n",
    "    j = len(tex)\n",
    "    i=0\n",
    "    lst_idx = []\n",
    "    while True:\n",
    "            idx = []\n",
    "            if i < j:\n",
    "                count = 0\n",
    "                if ((ord(tex[i]) > 47) & (ord(tex[i]) < 58)):\n",
    "                    start = i\n",
    "                    while True:\n",
    "                        if ((ord(tex[i]) > 47) & (ord(tex[i]) < 58)):\n",
    "                            count = count + 1\n",
    "                            i = i+1\n",
    "                            continue\n",
    "                        else:\n",
    "                            idx.append(start)\n",
    "                            idx.append(i)\n",
    "                            lst_idx.append(idx)                   \n",
    "                            i = i -1\n",
    "                            break\n",
    "        \n",
    "                i = i +1\n",
    "        \n",
    "            else:\n",
    "                break\n",
    "    num = []\n",
    "    for i in range(len(lst_idx)):\n",
    "        num.append(tex[lst_idx[i][0]:lst_idx[i][1]])\n",
    "    \n",
    "    for i in range(len(num)):\n",
    "        if num[i] in tex:\n",
    "            tex = tex.replace(num[i], 'digit#',1)\n",
    "    \n",
    "    return tex\n",
    "    \n",
    "    "
   ]
  },
  {
   "cell_type": "code",
   "execution_count": 31,
   "id": "dd6758ff",
   "metadata": {
    "ExecuteTime": {
     "end_time": "2021-12-10T08:45:30.159478Z",
     "start_time": "2021-12-10T08:45:25.586683Z"
    }
   },
   "outputs": [],
   "source": [
    "input_text = []\n",
    "target_text = []\n",
    "for i in range(data_frame.shape[0]):\n",
    "    input_text.append(replace_digits(data_frame.iloc[i,0]))\n",
    "    target_text.append(replace_digits(data_frame.iloc[i,1]))"
   ]
  },
  {
   "cell_type": "code",
   "execution_count": 32,
   "id": "4229d191",
   "metadata": {
    "ExecuteTime": {
     "end_time": "2021-12-10T08:45:30.175054Z",
     "start_time": "2021-12-10T08:45:30.160459Z"
    }
   },
   "outputs": [],
   "source": [
    "data_frame = pd.DataFrame({'input_text':input_text, 'target_text':target_text})"
   ]
  },
  {
   "cell_type": "code",
   "execution_count": null,
   "id": "6a3fef3c",
   "metadata": {},
   "outputs": [],
   "source": [
    "data_frame.to_excel('data_2.xlsx')"
   ]
  }
 ],
 "metadata": {
  "kernelspec": {
   "display_name": "Python 3",
   "language": "python",
   "name": "python3"
  },
  "language_info": {
   "codemirror_mode": {
    "name": "ipython",
    "version": 3
   },
   "file_extension": ".py",
   "mimetype": "text/x-python",
   "name": "python",
   "nbconvert_exporter": "python",
   "pygments_lexer": "ipython3",
   "version": "3.6.13"
  },
  "toc": {
   "base_numbering": 1,
   "nav_menu": {},
   "number_sections": true,
   "sideBar": true,
   "skip_h1_title": false,
   "title_cell": "Table of Contents",
   "title_sidebar": "Contents",
   "toc_cell": false,
   "toc_position": {},
   "toc_section_display": true,
   "toc_window_display": false
  }
 },
 "nbformat": 4,
 "nbformat_minor": 5
}
