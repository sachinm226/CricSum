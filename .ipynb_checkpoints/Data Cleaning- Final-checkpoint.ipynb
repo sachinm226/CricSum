{
 "cells": [
  {
   "cell_type": "code",
   "execution_count": 1,
   "id": "3723e769",
   "metadata": {
    "ExecuteTime": {
     "end_time": "2021-12-14T18:47:51.650002Z",
     "start_time": "2021-12-14T18:47:50.492601Z"
    }
   },
   "outputs": [],
   "source": [
    "import pandas as pd\n",
    "import numpy as np"
   ]
  },
  {
   "cell_type": "markdown",
   "id": "bb2a2d05",
   "metadata": {},
   "source": [
    "# Removing the tweets"
   ]
  },
  {
   "cell_type": "code",
   "execution_count": 2,
   "id": "d88954f0",
   "metadata": {
    "ExecuteTime": {
     "end_time": "2021-12-14T18:47:51.665839Z",
     "start_time": "2021-12-14T18:47:51.651749Z"
    }
   },
   "outputs": [],
   "source": [
    "import re\n",
    "\n",
    "def removing_tweets(data):\n",
    "    \"\"\"This function removes the tweets from the data\"\"\"\n",
    "    indexes = []\n",
    "    raw_commentaries = data.iloc[:data.shape[0] - 7,0]\n",
    "\n",
    "    df = pd.DataFrame(raw_commentaries)\n",
    "\n",
    "    df.dropna(inplace=True)\n",
    "    \n",
    "    for i in range(raw_commentaries.shape[0]):\n",
    "        if ((': \"' not in raw_commentaries[i]) and (' \"' not in raw_commentaries[i])):\n",
    "            indexes.append(i)\n",
    "    df = df.iloc[indexes]\n",
    "\n",
    "    df.reset_index(inplace=True, drop=True)\n",
    "    return df\n"
   ]
  },
  {
   "cell_type": "code",
   "execution_count": 3,
   "id": "3a6bd0bd",
   "metadata": {
    "ExecuteTime": {
     "end_time": "2021-12-14T18:47:51.681832Z",
     "start_time": "2021-12-14T18:47:51.667754Z"
    }
   },
   "outputs": [],
   "source": [
    "def index_no(df):\n",
    "    \"\"\"This function returns the index of 'Innings Start' string the data\"\"\"\n",
    "    idx = list(df[df['Data'] == 'Innings Start'].index)\n",
    "\n",
    "    return idx"
   ]
  },
  {
   "cell_type": "markdown",
   "id": "581301ba",
   "metadata": {},
   "source": [
    "# First Innings Data Processing"
   ]
  },
  {
   "cell_type": "code",
   "execution_count": 4,
   "id": "853ad3f9",
   "metadata": {
    "ExecuteTime": {
     "end_time": "2021-12-14T18:47:51.697615Z",
     "start_time": "2021-12-14T18:47:51.682833Z"
    },
    "scrolled": true
   },
   "outputs": [],
   "source": [
    "def flip_df(dataFrame):\n",
    "    \"\"\"This function flip the dataframe\"\"\"\n",
    "    dataFrame = dataFrame.reindex(index=dataFrame.index[::-1])\n",
    "    dataFrame.reset_index(inplace = True, drop=True)\n",
    "    return dataFrame\n",
    "\n",
    "\n",
    "def first_innings_commentary(data):\n",
    "    \"\"\"This function cleans first innings commentary \"\"\"\n",
    "    df_1 = removing_tweets(data)\n",
    "    idx = index_no(df_1)\n",
    "    first_innings = df_1.iloc[:idx[0],:]\n",
    "    first_innings_1 = flip_df(first_innings)\n",
    "    commentary_start_idx = None\n",
    "    for commentary_start_idx in range(first_innings_1.shape[0]):\n",
    "        if (\"0.1\" in first_innings_1.iloc[commentary_start_idx,0]):\n",
    "            break\n",
    "    beginneing_commentary = pd.DataFrame(first_innings_1.iloc[:commentary_start_idx, 0])\n",
    "\n",
    "    ### Who won the toss\n",
    "    toss_won = None\n",
    "    for i in range(beginneing_commentary.shape[0]):\n",
    "        if ((\"won\" in beginneing_commentary.iloc[i,0]) and (\"toss\" in beginneing_commentary.iloc[i,0])) or ((\"toss\" in beginneing_commentary.iloc[i,0])  and (\"win\" in beginneing_commentary.iloc[i,0])):\n",
    "            toss_won =pd.DataFrame( {'Data':[beginneing_commentary.iloc[i,0]]})\n",
    "\n",
    "    txt_commentary = []\n",
    "    for i in range(inning_1.shape[0]):\n",
    "        arrr = inning_1.iloc[i,0]\n",
    "        if (len(arrr.split(\";\")) > 2) :\n",
    "\n",
    "            txt_commentary.append(arrr.split(\";\")[2])\n",
    "        else:\n",
    "            txt_commentary.append(arrr)\n",
    "\n",
    "    inning_1 = pd.DataFrame({'Data':txt_commentary})\n",
    "\n",
    "    inning_1.reset_index(inplace=True, drop=True)\n",
    "    if toss_won is not None:\n",
    "        inning_1 = toss_won.append(inning_1)\n",
    "\n",
    "    \n",
    "    indexes = []\n",
    "    for i in range(inning_1.shape[0]):\n",
    "        if (len(inning_1.iloc[i,0]) > 15):\n",
    "            indexes.append(i)\n",
    "\n",
    "    inning_1 = inning_1.iloc[indexes]\n",
    "    \n",
    "\n",
    "    inning_1.reset_index(inplace=True, drop=True)\n",
    "    return inning_1"
   ]
  },
  {
   "cell_type": "markdown",
   "id": "5ce5309a",
   "metadata": {
    "ExecuteTime": {
     "end_time": "2021-11-04T09:30:43.629219Z",
     "start_time": "2021-11-04T09:30:43.537817Z"
    }
   },
   "source": [
    "first_innnings = first_innings_commentary(data)"
   ]
  },
  {
   "cell_type": "markdown",
   "id": "1d7d0764",
   "metadata": {
    "ExecuteTime": {
     "end_time": "2021-11-04T09:30:51.617219Z",
     "start_time": "2021-11-04T09:30:51.574056Z"
    }
   },
   "source": [
    "first_innnings"
   ]
  },
  {
   "cell_type": "markdown",
   "id": "5fc7f332",
   "metadata": {},
   "source": [
    "# Second Innings Commentary"
   ]
  },
  {
   "cell_type": "code",
   "execution_count": 5,
   "id": "f301abfa",
   "metadata": {
    "ExecuteTime": {
     "end_time": "2021-12-14T18:47:51.713572Z",
     "start_time": "2021-12-14T18:47:51.699589Z"
    }
   },
   "outputs": [
    {
     "ename": "IndentationError",
     "evalue": "unexpected indent (<ipython-input-5-a348a705566b>, line 3)",
     "output_type": "error",
     "traceback": [
      "\u001b[1;36m  File \u001b[1;32m\"<ipython-input-5-a348a705566b>\"\u001b[1;36m, line \u001b[1;32m3\u001b[0m\n\u001b[1;33m    df_1 = removing_tweets(data)\u001b[0m\n\u001b[1;37m    ^\u001b[0m\n\u001b[1;31mIndentationError\u001b[0m\u001b[1;31m:\u001b[0m unexpected indent\n"
     ]
    }
   ],
   "source": [
    "\n",
    "def second_innings_commentary(data):\n",
    "        \"\"\"This function cleans second innings commentary\"\"\"\n",
    "        df_1 = removing_tweets(data)\n",
    "        idx = index_no(df_1)\n",
    "        second_innings = df_1.iloc[idx[0]+1:idx[1],:]\n",
    "\n",
    "        second_innings_1 = flip_df(second_innings)\n",
    "\n",
    "        indexes_of_interviews = []\n",
    "        for i in range(second_innings_1.shape[0]):\n",
    "            if (': ' not in second_innings_1.iloc[i, 0]):\n",
    "                indexes_of_interviews.append(i)\n",
    "\n",
    "        second_innings_1 = second_innings_1.iloc[indexes_of_interviews,0]\n",
    "\n",
    "        second_innings_1 = pd.DataFrame(second_innings_1)\n",
    "\n",
    "        second_innings_1.reset_index(inplace=True, drop=True)\n",
    "\n",
    "        txt_commentary_2 = []\n",
    "        for i in range(second_innings_1.shape[0]):\n",
    "            arrr = second_innings_1.iloc[i,0]\n",
    "            if (len(arrr.split(\";\")) > 2) :\n",
    "                txt_commentary_2.append(arrr.split(\";\")[2])\n",
    "            else:\n",
    "                txt_commentary_2.append(arrr)\n",
    "        second_innings_1 = pd.DataFrame({'Data':txt_commentary_2})\n",
    "        indexes = []\n",
    "        for i in range(second_innings_1.shape[0]):\n",
    "            if (len(second_innings_1.iloc[i,0]) > 15):\n",
    "                indexes.append(i)\n",
    "\n",
    "        second_innings_1 = second_innings_1.iloc[indexes]\n",
    "\n",
    "        second_innings_1.reset_index(inplace=True, drop=True)\n",
    "        return second_innings_1"
   ]
  },
  {
   "cell_type": "markdown",
   "id": "fb2d1ed2",
   "metadata": {},
   "source": [
    "### Player of the match"
   ]
  },
  {
   "cell_type": "code",
   "execution_count": null,
   "id": "cdd15057",
   "metadata": {
    "ExecuteTime": {
     "end_time": "2021-12-14T18:47:51.715545Z",
     "start_time": "2021-12-14T18:47:50.501Z"
    }
   },
   "outputs": [],
   "source": [
    "def player_of_match(data):\n",
    "    \"\"\"This function gets player of the match information from data\"\"\"\n",
    "    plyr_of_match = data.iloc[data.shape[0]-7:,0]\n",
    "\n",
    "    plyr_of_match.reset_index(inplace=True, drop=True)\n",
    "\n",
    "    plyr_of_match_str = plyr_of_match[5]\n",
    "    match_status = plyr_of_match[6]\n",
    "    print(plyr_of_match_str)\n",
    "    print(match_status)\n",
    "\n",
    "    plyr_of_match_df = pd.DataFrame( {'Data':[match_status,plyr_of_match_str]})\n",
    "    return plyr_of_match_df"
   ]
  },
  {
   "cell_type": "code",
   "execution_count": null,
   "id": "d38a9587",
   "metadata": {
    "ExecuteTime": {
     "end_time": "2021-12-14T18:47:51.715545Z",
     "start_time": "2021-12-14T18:47:50.503Z"
    }
   },
   "outputs": [],
   "source": [
    "def final_commentary(data):\n",
    "    \"\"\"This function aggregates all the data\"\"\"\n",
    "    plyr_of_match_df = player_of_match(data)\n",
    "    first_innnings = first_innings_commentary(data)\n",
    "    second_innings = second_innings_commentary(data)\n",
    "    final_commentary = first_innnings.append(second_innings)\n",
    "    final_commentary = final_commentary.append(plyr_of_match_df)\n",
    "    final_commentary.reset_index(inplace=True,drop=True)\n",
    "\n",
    "    return final_commentary"
   ]
  },
  {
   "cell_type": "code",
   "execution_count": null,
   "id": "2c0687e4",
   "metadata": {
    "ExecuteTime": {
     "end_time": "2021-12-14T18:47:51.716543Z",
     "start_time": "2021-12-14T18:47:50.504Z"
    },
    "scrolled": true
   },
   "outputs": [],
   "source": [
    "import os.path\n",
    "data = None\n",
    "list_of_comm = []\n",
    "for i in range(1,696):\n",
    "    if i in [78,79,616, 621,644,647,648,646, 675,645, 581,483,484,495,496,555,556,557,82,406,407,434,435,69,70,92,94,264,265,266,267,288,233,343,246,247,248,249,250,251,252,276,277,278,296,297,295,102,118,119,158,159,166,167,168,169,170,171,193,199,205,215,229,237,257,284,316,332,334,363,393,394,19, 20, 21, 22, 32, 32, 45, 46, 51, 55, 58, 80, 81, 83, 84, 85, 88, 89, 94, 95, 101, 108, 109, 110, 111, 129, 130, 138, 139, 140, 141, 142, 143, 150, 165, 176, 177, 178, 179, 188, 204, 210, 211, 221, 222, 223, 224, 256, 258, 268, 365, 366, 421, 422, 431, 455]:\n",
    "        continue\n",
    "    if os.path.isfile(os.path.join(os.getcwd(), 'Commentaries', 'Text_Comm', 'commentary_{0}.txt'.format(i)).replace('\\\\', '/')):\n",
    "        data = pd.read_fwf(os.path.join(os.getcwd(), 'Commentaries', 'Text_Comm', 'commentary_{0}.txt'.format(i)).replace('\\\\', '/'))\n",
    "        final_comm_1 = final_commentary(data)\n",
    "        final_comm_1.to_csv(os.path.join(os.getcwd(), 'Commentaries', 'Text_Comm', 'commentary_{0}.csv'.format(i)).replace('\\\\', '/'))\n",
    "        \n",
    "        print(i)"
   ]
  },
  {
   "cell_type": "code",
   "execution_count": null,
   "id": "c0dec6dd",
   "metadata": {
    "ExecuteTime": {
     "end_time": "2021-12-14T18:47:51.717571Z",
     "start_time": "2021-12-14T18:47:50.505Z"
    }
   },
   "outputs": [],
   "source": [
    "data = pd.read_fwf(os.path.isfile(os.path.join(os.getcwd(), 'Commentaries', 'Text_Comm', 'commentary_{0}.txt'.format(1)).replace('\\\\', '/')))"
   ]
  },
  {
   "cell_type": "code",
   "execution_count": null,
   "id": "7d9b645e",
   "metadata": {
    "ExecuteTime": {
     "end_time": "2021-12-14T18:47:51.718540Z",
     "start_time": "2021-12-14T18:47:50.506Z"
    }
   },
   "outputs": [],
   "source": [
    "os.path.isfile(os.path.join(os.getcwd(), 'Commentaries', 'Text_Comm', 'commentary_{0}.txt'.format(1)).replace('\\\\', '/'))"
   ]
  },
  {
   "cell_type": "code",
   "execution_count": null,
   "id": "74c8cd21",
   "metadata": {
    "ExecuteTime": {
     "end_time": "2021-12-14T18:47:51.719537Z",
     "start_time": "2021-12-14T18:47:50.507Z"
    }
   },
   "outputs": [],
   "source": [
    "os.path.isfile(os.path.join(os.getcwd(), 'Commentaries', 'Text_Comm', 'commentary_{0}.txt'.format(2)).replace('\\\\', '/'))"
   ]
  },
  {
   "cell_type": "code",
   "execution_count": null,
   "id": "03aa9cb7",
   "metadata": {
    "ExecuteTime": {
     "end_time": "2021-12-14T18:47:51.720534Z",
     "start_time": "2021-12-14T18:47:50.508Z"
    }
   },
   "outputs": [],
   "source": [
    "os.path.isfile(os.path.join(os.getcwd(), 'Commentaries', 'Text_Comm', 'commentary_{0}.txt'.format(2)))"
   ]
  },
  {
   "cell_type": "code",
   "execution_count": null,
   "id": "e249a403",
   "metadata": {},
   "outputs": [],
   "source": []
  }
 ],
 "metadata": {
  "kernelspec": {
   "display_name": "Python 3",
   "language": "python",
   "name": "python3"
  },
  "language_info": {
   "codemirror_mode": {
    "name": "ipython",
    "version": 3
   },
   "file_extension": ".py",
   "mimetype": "text/x-python",
   "name": "python",
   "nbconvert_exporter": "python",
   "pygments_lexer": "ipython3",
   "version": "3.8.5"
  },
  "toc": {
   "base_numbering": 1,
   "nav_menu": {},
   "number_sections": true,
   "sideBar": true,
   "skip_h1_title": false,
   "title_cell": "Table of Contents",
   "title_sidebar": "Contents",
   "toc_cell": false,
   "toc_position": {},
   "toc_section_display": true,
   "toc_window_display": false
  }
 },
 "nbformat": 4,
 "nbformat_minor": 5
}
