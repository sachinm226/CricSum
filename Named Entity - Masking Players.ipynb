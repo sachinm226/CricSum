{
 "cells": [
  {
   "cell_type": "code",
   "execution_count": 5,
   "id": "resistant-defendant",
   "metadata": {
    "ExecuteTime": {
     "end_time": "2021-12-29T06:36:10.385080Z",
     "start_time": "2021-12-29T06:35:53.892969Z"
    }
   },
   "outputs": [
    {
     "name": "stdout",
     "output_type": "stream",
     "text": [
      "Requirement already satisfied: nltk in c:\\users\\sachi\\anaconda3\\envs\\project\\lib\\site-packages (3.6.7)\n",
      "Requirement already satisfied: regex>=2021.8.3 in c:\\users\\sachi\\anaconda3\\envs\\project\\lib\\site-packages (from nltk) (2021.11.10)\n",
      "Requirement already satisfied: click in c:\\users\\sachi\\anaconda3\\envs\\project\\lib\\site-packages (from nltk) (8.0.3)\n",
      "Requirement already satisfied: tqdm in c:\\users\\sachi\\anaconda3\\envs\\project\\lib\\site-packages (from nltk) (4.62.3)\n",
      "Requirement already satisfied: joblib in c:\\users\\sachi\\anaconda3\\envs\\project\\lib\\site-packages (from nltk) (1.0.0)\n",
      "Requirement already satisfied: colorama in c:\\users\\sachi\\anaconda3\\envs\\project\\lib\\site-packages (from click->nltk) (0.4.4)\n",
      "Requirement already satisfied: xlrd in c:\\users\\sachi\\anaconda3\\envs\\project\\lib\\site-packages (2.0.1)\n",
      "Collecting openpyxl\n",
      "  Using cached openpyxl-3.0.9-py2.py3-none-any.whl (242 kB)\n",
      "Collecting et-xmlfile\n",
      "  Using cached et_xmlfile-1.1.0-py3-none-any.whl (4.7 kB)\n",
      "Installing collected packages: et-xmlfile, openpyxl\n",
      "Successfully installed et-xmlfile-1.1.0 openpyxl-3.0.9\n"
     ]
    }
   ],
   "source": [
    "!pip install nltk\n",
    "!pip install xlrd\n",
    "!pip install openpyxl"
   ]
  },
  {
   "cell_type": "code",
   "execution_count": 8,
   "id": "895146e2",
   "metadata": {
    "ExecuteTime": {
     "end_time": "2021-12-29T06:36:28.130764Z",
     "start_time": "2021-12-29T06:36:22.810468Z"
    }
   },
   "outputs": [
    {
     "name": "stderr",
     "output_type": "stream",
     "text": [
      "[nltk_data] Downloading package stopwords to\n",
      "[nltk_data]     C:\\Users\\sachi\\AppData\\Roaming\\nltk_data...\n",
      "[nltk_data]   Package stopwords is already up-to-date!\n",
      "[nltk_data] Downloading package punkt to\n",
      "[nltk_data]     C:\\Users\\sachi\\AppData\\Roaming\\nltk_data...\n",
      "[nltk_data]   Package punkt is already up-to-date!\n"
     ]
    }
   ],
   "source": [
    "import pandas as pd\n",
    "import numpy as np\n",
    "import nltk\n",
    "import re\n",
    "nltk.download('stopwords')\n",
    "nltk.download('punkt')\n",
    "import os.path\n",
    "from nltk.tag import StanfordNERTagger\n",
    "from nltk.tokenize import word_tokenize"
   ]
  },
  {
   "cell_type": "code",
   "execution_count": 2,
   "id": "2b132ceb",
   "metadata": {
    "ExecuteTime": {
     "end_time": "2021-12-28T12:41:56.684592Z",
     "start_time": "2021-12-28T12:41:46.780921Z"
    },
    "scrolled": true
   },
   "outputs": [],
   "source": [
    "lst_commentaries = []\n",
    "lst_reports = []\n",
    "for i in range(1,700):\n",
    "    sent = ''\n",
    "    if (os.path.isfile(r'C:\\Users\\sachi\\Downloads\\NCI\\Thesisi\\Project\\CSV\\commentary_{0}.csv'.format(i))) and (os.path.isfile(r'C:\\Users\\sachi\\Downloads\\NCI\\Thesisi\\Project\\Reports\\short_reports\\report_{0}.txt'.format(i))):\n",
    "        df = pd.read_csv(r'C:\\Users\\sachi\\Downloads\\NCI\\Thesisi\\Project\\CSV\\commentary_{0}.csv'.format(i))\n",
    "        with open(r'C:\\Users\\sachi\\Downloads\\NCI\\Thesisi\\Project\\Reports\\short_reports\\report_{0}.txt'.format(i), 'r') as f:\n",
    "            lst_reports.append(f.readlines()[0])\n",
    "        df.drop(columns=['Unnamed: 0'], axis = 1, inplace=True)\n",
    "        for j in range(df.shape[0]):\n",
    "            sent = sent + df.iloc[j,0]+'. '\n",
    "        lst_commentaries.append(sent)"
   ]
  },
  {
   "cell_type": "code",
   "execution_count": 3,
   "id": "632d6441",
   "metadata": {
    "ExecuteTime": {
     "end_time": "2021-12-28T12:41:59.572974Z",
     "start_time": "2021-12-28T12:41:59.563000Z"
    },
    "scrolled": true
   },
   "outputs": [],
   "source": [
    "data_frame = pd.DataFrame({'input_text':lst_commentaries, 'target_text':lst_reports})"
   ]
  },
  {
   "cell_type": "code",
   "execution_count": 4,
   "id": "44a5f542",
   "metadata": {
    "ExecuteTime": {
     "end_time": "2021-12-28T12:41:59.897682Z",
     "start_time": "2021-12-28T12:41:59.883716Z"
    }
   },
   "outputs": [
    {
     "data": {
      "text/plain": [
       "(465, 2)"
      ]
     },
     "execution_count": 4,
     "metadata": {},
     "output_type": "execute_result"
    }
   ],
   "source": [
    "data_frame.shape"
   ]
  },
  {
   "cell_type": "code",
   "execution_count": 5,
   "id": "dc0b19c2",
   "metadata": {
    "ExecuteTime": {
     "end_time": "2021-12-28T12:42:01.849283Z",
     "start_time": "2021-12-28T12:42:00.673342Z"
    }
   },
   "outputs": [],
   "source": [
    "# Dataset without masking the data\n",
    "data_frame.to_excel('data_new.xlsx')"
   ]
  },
  {
   "cell_type": "code",
   "execution_count": 12,
   "id": "outstanding-passenger",
   "metadata": {
    "ExecuteTime": {
     "end_time": "2021-12-29T06:38:18.450249Z",
     "start_time": "2021-12-29T06:38:18.231782Z"
    }
   },
   "outputs": [],
   "source": [
    "data_frame = pd.read_excel('data_final.xlsx')\n",
    "data_frame.drop('Unnamed: 0', axis =1, inplace=True)"
   ]
  },
  {
   "cell_type": "code",
   "execution_count": 13,
   "id": "incorporate-swimming",
   "metadata": {
    "ExecuteTime": {
     "end_time": "2021-12-29T06:38:18.636137Z",
     "start_time": "2021-12-29T06:38:18.612743Z"
    }
   },
   "outputs": [
    {
     "data": {
      "text/html": [
       "<div>\n",
       "<style scoped>\n",
       "    .dataframe tbody tr th:only-of-type {\n",
       "        vertical-align: middle;\n",
       "    }\n",
       "\n",
       "    .dataframe tbody tr th {\n",
       "        vertical-align: top;\n",
       "    }\n",
       "\n",
       "    .dataframe thead th {\n",
       "        text-align: right;\n",
       "    }\n",
       "</style>\n",
       "<table border=\"1\" class=\"dataframe\">\n",
       "  <thead>\n",
       "    <tr style=\"text-align: right;\">\n",
       "      <th></th>\n",
       "      <th>input_text</th>\n",
       "      <th>target_text</th>\n",
       "    </tr>\n",
       "  </thead>\n",
       "  <tbody>\n",
       "    <tr>\n",
       "      <th>0</th>\n",
       "      <td>5.30pm Bangladesh have won the toss and will b...</td>\n",
       "      <td>Bangladesh 122 for 8 (Naim 23, Ellis 2-16, Chr...</td>\n",
       "    </tr>\n",
       "    <tr>\n",
       "      <th>1</th>\n",
       "      <td>Toss Bangladesh win toss, will bat first - the...</td>\n",
       "      <td>Australia 105 for 7 (Christian 39) beat Bangla...</td>\n",
       "    </tr>\n",
       "    <tr>\n",
       "      <th>2</th>\n",
       "      <td>The ball too. Hazlewood to Mahmudullah, 1 run ...</td>\n",
       "      <td>Bangladesh 127 for 9 (Mahmudullah 52, Ellis 3-...</td>\n",
       "    </tr>\n",
       "    <tr>\n",
       "      <th>3</th>\n",
       "      <td>5.30pm Australia win the toss and bat first to...</td>\n",
       "      <td>Bangladesh 123 for 5 (Afif 37*) beat Australia...</td>\n",
       "    </tr>\n",
       "    <tr>\n",
       "      <th>4</th>\n",
       "      <td>Hazlewood to Soumya, no run sways out of the w...</td>\n",
       "      <td>Bangladesh 131 for 7 (Shakib 36, Naim 30, Hazl...</td>\n",
       "    </tr>\n",
       "  </tbody>\n",
       "</table>\n",
       "</div>"
      ],
      "text/plain": [
       "                                          input_text  \\\n",
       "0  5.30pm Bangladesh have won the toss and will b...   \n",
       "1  Toss Bangladesh win toss, will bat first - the...   \n",
       "2  The ball too. Hazlewood to Mahmudullah, 1 run ...   \n",
       "3  5.30pm Australia win the toss and bat first to...   \n",
       "4  Hazlewood to Soumya, no run sways out of the w...   \n",
       "\n",
       "                                         target_text  \n",
       "0  Bangladesh 122 for 8 (Naim 23, Ellis 2-16, Chr...  \n",
       "1  Australia 105 for 7 (Christian 39) beat Bangla...  \n",
       "2  Bangladesh 127 for 9 (Mahmudullah 52, Ellis 3-...  \n",
       "3  Bangladesh 123 for 5 (Afif 37*) beat Australia...  \n",
       "4  Bangladesh 131 for 7 (Shakib 36, Naim 30, Hazl...  "
      ]
     },
     "execution_count": 13,
     "metadata": {},
     "output_type": "execute_result"
    }
   ],
   "source": [
    "data_frame.head()"
   ]
  },
  {
   "cell_type": "markdown",
   "id": "4ec31468",
   "metadata": {},
   "source": [
    "### Cosine Similarity"
   ]
  },
  {
   "cell_type": "code",
   "execution_count": 14,
   "id": "0b7c4591",
   "metadata": {
    "ExecuteTime": {
     "end_time": "2021-12-29T06:38:21.248627Z",
     "start_time": "2021-12-29T06:38:21.231605Z"
    }
   },
   "outputs": [],
   "source": [
    "st = StanfordNERTagger(r'C:\\Users\\sachi\\Downloads\\stanford-ner-4.2.0\\stanford-ner-4.2.0\\stanford-ner-2020-11-17\\classifiers\\english.all.3class.distsim.crf.ser.gz',\n",
    "  r'C:\\Users\\sachi\\Downloads\\stanford-ner-4.2.0\\stanford-ner-4.2.0\\stanford-ner-2020-11-17\\stanford-ner.jar',\n",
    "  encoding='utf-8')"
   ]
  },
  {
   "cell_type": "code",
   "execution_count": 15,
   "id": "d352a666",
   "metadata": {
    "ExecuteTime": {
     "end_time": "2021-12-29T06:52:58.005169Z",
     "start_time": "2021-12-29T06:38:21.777741Z"
    },
    "scrolled": false
   },
   "outputs": [],
   "source": [
    "dict = {}\n",
    "for i in range(data_frame.shape[0]):\n",
    "    text = data_frame.iloc[i,0]\n",
    "    tokenized_text = word_tokenize(text)\n",
    "    classified_text = st.tag(tokenized_text)\n",
    "\n",
    "    list_of_person = [i for i in classified_text if i[1] == 'PERSON']\n",
    "    dict[i] = list_of_person"
   ]
  },
  {
   "cell_type": "code",
   "execution_count": 16,
   "id": "9e597e18",
   "metadata": {
    "ExecuteTime": {
     "end_time": "2021-12-29T06:52:58.066908Z",
     "start_time": "2021-12-29T06:52:58.007082Z"
    }
   },
   "outputs": [],
   "source": [
    "plyr_dict = {}\n",
    "for z in range(len(dict)):  \n",
    "    lst_plyr = []\n",
    "\n",
    "    for i in dict[z]:\n",
    "        if i[0] not in lst_plyr:\n",
    "            lst_plyr.append(i[0])\n",
    "\n",
    "    lst_lyr_to_delete = [ 'Fended.Mahedi', 'Ranjith', 'McGlashan', 'Sreshth', 'Shah', 'Dan', '.Mahedi','P.', 'Marsh.Mahedi', 'Hossain','Mahedi.Mahedi',\n",
    " 'defend.Mahedi',\n",
    " 'cover.Mahedi', 'Binoy', 'Kishore','Shashank', 'George', 'Man', 'of', 'Ben','the','Leslie', 'Reifer','Nigel',\n",
    " 'Duguid', 'Jr','Hope', 'Match','Jr.', 'Penna', 'Della', 'Peter', 'Good','different.Tom','intercepts.Sam',\n",
    " 'mid-on.Sam',  'Allen.Australia','(',\"doesn'.Kane\", 'RussSir', 'defended.Tom','Mo','defending.Tom',\n",
    " 'midwicket.Tom','to', 'der', 'dre','van','Cricinfo',\n",
    " 'mid-off.Tom',\n",
    " 'defends.Tom',\n",
    " 'Ultra-Edge',\n",
    " 'mid-off.Sam', 'Wade.Starc','Chandan',' Duorah', 'Hemant ','Brar','there.Bumrah','Richardson.Kane',\n",
    " 'Stoinis.Kane','.Kane','Kohli.Agar','misses.Kane',')','cover.Kane','delivers.Kane','Carey.Kane','blade.Muhammad', 'boundary.Kane',\n",
    " 'defended.Kane',\n",
    " 'him.Mohammad','.Muhammad',\n",
    " '.Mohammad',\n",
    " 'Warner.Mohammad',\n",
    " 'though.Mohammad',\n",
    " 'it.Mohammad',\n",
    " 'midwicket.Mohammad',\n",
    " 'mid-off.Mohammad',\n",
    " 'away.Mohammad',]\n",
    "    for j in lst_lyr_to_delete:\n",
    "        if j in lst_plyr:\n",
    "            lst_plyr.remove(j)    \n",
    "    plyr_dict[z] = lst_plyr"
   ]
  },
  {
   "cell_type": "code",
   "execution_count": 17,
   "id": "3f80cc0d",
   "metadata": {
    "ExecuteTime": {
     "end_time": "2021-12-29T07:03:25.851210Z",
     "start_time": "2021-12-29T07:03:25.830267Z"
    }
   },
   "outputs": [],
   "source": [
    "plyr_dict_1 = {}\n",
    "for a in range(len(plyr_dict)):\n",
    "    l = []\n",
    "    for k in plyr_dict[a]:\n",
    "        if '.' not in k:\n",
    "            l.append(k)\n",
    "    plyr_dict_1[a] = l"
   ]
  },
  {
   "cell_type": "code",
   "execution_count": 18,
   "id": "86fe6563",
   "metadata": {
    "ExecuteTime": {
     "end_time": "2021-12-29T07:03:26.907701Z",
     "start_time": "2021-12-29T07:03:26.892776Z"
    }
   },
   "outputs": [],
   "source": [
    "plyr_dict = None\n",
    "plyr_dict = plyr_dict_1"
   ]
  },
  {
   "cell_type": "code",
   "execution_count": 19,
   "id": "d522a43d",
   "metadata": {
    "ExecuteTime": {
     "end_time": "2021-12-29T07:03:27.234860Z",
     "start_time": "2021-12-29T07:03:27.214913Z"
    }
   },
   "outputs": [],
   "source": [
    "for i in plyr_dict:\n",
    "    for j in plyr_dict[i]:\n",
    "        if len(j) <4:\n",
    "            plyr_dict[i].remove(j)"
   ]
  },
  {
   "cell_type": "code",
   "execution_count": 20,
   "id": "e9a74bcc",
   "metadata": {
    "ExecuteTime": {
     "end_time": "2021-12-29T07:03:29.216093Z",
     "start_time": "2021-12-29T07:03:29.129669Z"
    }
   },
   "outputs": [],
   "source": [
    "# Replacing the player names by Player#\n",
    "input_text = []\n",
    "target_text = []\n",
    "for m in range(data_frame.shape[0]):\n",
    "    text = data_frame.iloc[m,0]\n",
    "    summary = data_frame.iloc[m,1]\n",
    "    for n in range(len(plyr_dict[m])):\n",
    "             text = text.replace(plyr_dict[m][n],'Player#')\n",
    "             summary = summary.replace(plyr_dict[m][n],'Player#')\n",
    "    input_text.append(text)\n",
    "    target_text.append(summary)"
   ]
  },
  {
   "cell_type": "code",
   "execution_count": 21,
   "id": "ece16ccc",
   "metadata": {
    "ExecuteTime": {
     "end_time": "2021-12-29T07:03:33.860713Z",
     "start_time": "2021-12-29T07:03:33.842760Z"
    }
   },
   "outputs": [],
   "source": [
    "data_frame = pd.DataFrame({'input_text':input_text, 'target_text':target_text})"
   ]
  },
  {
   "cell_type": "code",
   "execution_count": 23,
   "id": "2e5b4d7d",
   "metadata": {
    "ExecuteTime": {
     "end_time": "2021-12-29T07:03:58.056781Z",
     "start_time": "2021-12-29T07:03:57.830692Z"
    }
   },
   "outputs": [],
   "source": [
    "data_frame.to_excel('data_2_masked.xlsx')"
   ]
  },
  {
   "cell_type": "code",
   "execution_count": 30,
   "id": "007e45f4",
   "metadata": {
    "ExecuteTime": {
     "end_time": "2021-12-10T08:45:24.202091Z",
     "start_time": "2021-12-10T08:45:24.182109Z"
    }
   },
   "outputs": [],
   "source": [
    "def replace_digits(tex):\n",
    "    \"\"\"This function replaces the digits by digit#\"\"\"\n",
    "    j = len(tex)\n",
    "    i=0\n",
    "    lst_idx = []\n",
    "    while True:\n",
    "            idx = []\n",
    "            if i < j:\n",
    "                count = 0\n",
    "                if ((ord(tex[i]) > 47) & (ord(tex[i]) < 58)):\n",
    "                    start = i\n",
    "                    while True:\n",
    "                        if ((ord(tex[i]) > 47) & (ord(tex[i]) < 58)):\n",
    "                            count = count + 1\n",
    "                            i = i+1\n",
    "                            continue\n",
    "                        else:\n",
    "                            idx.append(start)\n",
    "                            idx.append(i)\n",
    "                            lst_idx.append(idx)                   \n",
    "                            i = i -1\n",
    "                            break\n",
    "        \n",
    "                i = i +1\n",
    "        \n",
    "            else:\n",
    "                break\n",
    "    num = []\n",
    "    for i in range(len(lst_idx)):\n",
    "        num.append(tex[lst_idx[i][0]:lst_idx[i][1]])\n",
    "    \n",
    "    for i in range(len(num)):\n",
    "        if num[i] in tex:\n",
    "            tex = tex.replace(num[i], 'digit#',1)\n",
    "    \n",
    "    return tex\n",
    "    \n",
    "    "
   ]
  },
  {
   "cell_type": "code",
   "execution_count": 31,
   "id": "dd6758ff",
   "metadata": {
    "ExecuteTime": {
     "end_time": "2021-12-10T08:45:30.159478Z",
     "start_time": "2021-12-10T08:45:25.586683Z"
    }
   },
   "outputs": [],
   "source": [
    "input_text = []\n",
    "target_text = []\n",
    "for i in range(data_frame.shape[0]):\n",
    "    input_text.append(replace_digits(data_frame.iloc[i,0]))\n",
    "    target_text.append(replace_digits(data_frame.iloc[i,1]))"
   ]
  },
  {
   "cell_type": "code",
   "execution_count": 32,
   "id": "4229d191",
   "metadata": {
    "ExecuteTime": {
     "end_time": "2021-12-10T08:45:30.175054Z",
     "start_time": "2021-12-10T08:45:30.160459Z"
    }
   },
   "outputs": [],
   "source": [
    "data_frame = pd.DataFrame({'input_text':input_text, 'target_text':target_text})"
   ]
  },
  {
   "cell_type": "code",
   "execution_count": null,
   "id": "6a3fef3c",
   "metadata": {},
   "outputs": [],
   "source": [
    "data_frame.to_excel('data_2.xlsx')"
   ]
  }
 ],
 "metadata": {
  "kernelspec": {
   "display_name": "Python 3",
   "language": "python",
   "name": "python3"
  },
  "language_info": {
   "codemirror_mode": {
    "name": "ipython",
    "version": 3
   },
   "file_extension": ".py",
   "mimetype": "text/x-python",
   "name": "python",
   "nbconvert_exporter": "python",
   "pygments_lexer": "ipython3",
   "version": "3.8.5"
  },
  "toc": {
   "base_numbering": 1,
   "nav_menu": {},
   "number_sections": true,
   "sideBar": true,
   "skip_h1_title": false,
   "title_cell": "Table of Contents",
   "title_sidebar": "Contents",
   "toc_cell": false,
   "toc_position": {},
   "toc_section_display": true,
   "toc_window_display": false
  }
 },
 "nbformat": 4,
 "nbformat_minor": 5
}
